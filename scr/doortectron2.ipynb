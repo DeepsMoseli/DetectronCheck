{
 "cells": [
  {
   "cell_type": "code",
   "execution_count": null,
   "metadata": {},
   "outputs": [],
   "source": [
    "#!pip install -U jupyter\n",
    "#!pip install torch\n",
    "#!pip install torchsummary\n",
    "#!pip install torchvision\n",
    "#!pip install tensorflow-gpu\n",
    "#!pip install pycocotools\n",
    "#!conda remove tensorflow-gpu\n",
    "#!conda install pytorch torchvision cudatoolkit=10.2 -c pytorch\n",
    "#!pip install detectron2 -f https://dl.fbaipublicfiles.com/detectron2/wheels/cu102/torch1.5/index.html\n",
    "#!pip install opencv-python "
   ]
  },
  {
   "cell_type": "code",
   "execution_count": null,
   "metadata": {},
   "outputs": [],
   "source": [
    "import torch, torchvision\n",
    "print(torch.__version__,torch.cuda.is_available())\n",
    "device = torch.device(\"cuda\") \n"
   ]
  },
  {
   "cell_type": "code",
   "execution_count": null,
   "metadata": {},
   "outputs": [],
   "source": [
    "import detectron2\n",
    "from detectron2.utils.logger import setup_logger\n",
    "setup_logger()\n",
    "import numpy as np\n",
    "import cv2\n",
    "import pickle\n",
    "import random\n",
    "from PIL import Image\n",
    "import pandas as pd\n",
    "from matplotlib import pyplot as plt\n",
    "import numpy as np\n",
    "import pandas as pd\n",
    "\n",
    "from tqdm import tqdm\n",
    "import deepdish as dd\n",
    "import pycocotools as pycoco\n",
    "import warnings\n",
    "import os\n",
    "warnings.filterwarnings(\"ignore\")"
   ]
  },
  {
   "cell_type": "markdown",
   "metadata": {},
   "source": [
    "#### Some detectron2 utilities"
   ]
  },
  {
   "cell_type": "code",
   "execution_count": null,
   "metadata": {},
   "outputs": [],
   "source": [
    "from detectron2 import model_zoo\n",
    "from detectron2.engine import DefaultPredictor\n",
    "from detectron2.config import get_cfg\n",
    "from detectron2.utils.visualizer import Visualizer\n",
    "from detectron2.data import MetadataCatalog\n",
    "from detectron2.data import DatasetCatalog, MetadataCatalog\n",
    "from detectron2.structures import BoxMode\n",
    "from skimage import measure\n",
    "torch.cuda.empty_cache()"
   ]
  },
  {
   "cell_type": "markdown",
   "metadata": {},
   "source": [
    "## Train on  a custom dataset (fine tuning)\n",
    "\n",
    "first need to register a dataset in the coco formart  to work with predefined data loaders\n"
   ]
  },
  {
   "cell_type": "code",
   "execution_count": null,
   "metadata": {},
   "outputs": [],
   "source": [
    "os.getcwd()"
   ]
  },
  {
   "cell_type": "code",
   "execution_count": null,
   "metadata": {},
   "outputs": [],
   "source": [
    "def get_annos():\n",
    "    with open('check_box_annotations_48.pickle', 'rb') as f:\n",
    "        annotations = pickle.load(f)\n",
    "        \n",
    "    from sklearn.model_selection import train_test_split as tts\n",
    "    train_annotations,test_annotations = tts(annotations,test_size = 0.2, random_state = 75, shuffle = True)\n",
    "    data = {'train':train_annotations,'val':test_annotations}\n",
    "    return data\n",
    "\n",
    "def category_id(classname):\n",
    "    if classname =='no':\n",
    "        return 0\n",
    "    elif classname =='yes':\n",
    "        return 1\n",
    "\n",
    "\n",
    "def create_dataset(annotation):\n",
    "    dataset_dicts = []\n",
    "    image_path = os.getcwd().replace(\"scr\",'images') + '/'\n",
    "    for im in range(len(annotation)):\n",
    "        dict1 = {}\n",
    "        \n",
    "        dict1[\"file_name\"] = image_path+annotation[im][\"file_name\"]\n",
    "        height, width = cv2.imread(dict1[\"file_name\"]).shape[:2]\n",
    "        dict1[\"height\"] = height\n",
    "        dict1[\"width\"] = width\n",
    "        dict1[\"image_id\"] = (im+1)\n",
    "        \n",
    "        objs = []\n",
    "        for anno in annotation[im]['annotations']:\n",
    "            #assert not anno[\"region_attributes\"]\n",
    "            try:\n",
    "                cat =  category_id(list(anno['region_attributes']['filled'].keys())[0])\n",
    "                anno = anno[\"shape_attributes\"]\n",
    "                px = anno[\"all_points_x\"]\n",
    "                py = anno[\"all_points_y\"]\n",
    "                poly = [(x+0.5, y+0.5) for x,y in zip(px,py)]\n",
    "                poly = [p for x in poly for p in x]\n",
    "\n",
    "                obj = {\n",
    "                    \"bbox\":[np.min(px), np.min(py), np.max(px), np.max(py)],\n",
    "                    \"bbox_mode\":BoxMode.XYXY_ABS,\n",
    "                    \"segmentation\": [poly],\n",
    "                    \"category_id\":cat,\n",
    "                    \"iscrowd\":0,\n",
    "                    }\n",
    "                objs.append(obj)\n",
    "            except Exception as e:\n",
    "                print(\"image  \"+  dict1[\"file_name\"] + \": \", e)\n",
    "            \n",
    "        dict1[\"annotations\"] = objs\n",
    "        \n",
    "        dataset_dicts.append(dict1)\n",
    "    return dataset_dicts\n",
    "\n",
    "\n",
    "def register_dset():\n",
    "    DatasetCatalog.clear()\n",
    "    for d_set in data:\n",
    "        DatasetCatalog.register(\"checknet_%s\"%d_set, lambda d_set=d_set: create_dataset(data[d_set]))\n",
    "        MetadataCatalog.get(\"checknet_%s\"%d_set).set(thing_classes = [\"no\",'yes'])\n",
    "\n",
    "### load annotations, Register dataset\n"
   ]
  },
  {
   "cell_type": "code",
   "execution_count": null,
   "metadata": {},
   "outputs": [],
   "source": [
    "data = get_annos()\n",
    "register_dset()"
   ]
  },
  {
   "cell_type": "markdown",
   "metadata": {},
   "source": [
    "----"
   ]
  },
  {
   "cell_type": "markdown",
   "metadata": {},
   "source": [
    "### Now create a detectron config and defaultPredictor to run inference"
   ]
  },
  {
   "cell_type": "code",
   "execution_count": null,
   "metadata": {},
   "outputs": [],
   "source": [
    "cfg =get_cfg()\n",
    "cfg.merge_from_file(model_zoo.get_config_file(\"COCO-InstanceSegmentation/mask_rcnn_R_50_FPN_1x.yaml\"))\n",
    "cfg.MODEL.ROI_HEADS.SCORE_THRESH_TEST = 0.7 #model threshold\n",
    "cfg.MODEL.WEIGHTS = model_zoo.get_checkpoint_url(\"COCO-InstanceSegmentation/mask_rcnn_R_50_FPN_1x.yaml\")\n",
    "predictor = DefaultPredictor(cfg)"
   ]
  },
  {
   "cell_type": "markdown",
   "metadata": {},
   "source": [
    "### check dataset registration success, load visualize annotations ontop of image"
   ]
  },
  {
   "cell_type": "code",
   "execution_count": null,
   "metadata": {},
   "outputs": [],
   "source": [
    "### Train test annotation split \n",
    "fish_metadata = MetadataCatalog.get(\"checknet_train\")\n",
    "dataset_dicts = create_dataset(data[\"train\"])\n",
    "\n",
    "plt.figure()\n",
    "\n",
    "r = c = 1\n",
    "#subplot(r,c) provide the no. of rows and columns\n",
    "f, axarr = plt.subplots(r,c,figsize=(17,12))\n",
    "plt.xticks([])\n",
    "plt.xticks([])\n",
    "i=0\n",
    "j=0\n",
    "for d in random.sample(dataset_dicts,r*c):\n",
    "    if i == r:\n",
    "        i = 0\n",
    "        j+=1\n",
    "    img = cv2.imread(d['file_name'])\n",
    "    visualizer = Visualizer(img[:,:,::-1], metadata = fish_metadata, scale=0.5)\n",
    "    vis = visualizer.draw_dataset_dict(d)\n",
    "    axarr.imshow(Image.fromarray(vis.get_image()[:,:,::-1]))\n",
    "    i+=1\n",
    "    \n",
    "plt.show()"
   ]
  },
  {
   "cell_type": "markdown",
   "metadata": {},
   "source": [
    "-----\n",
    "\n",
    "## Train"
   ]
  },
  {
   "cell_type": "code",
   "execution_count": null,
   "metadata": {},
   "outputs": [],
   "source": [
    "from detectron2.engine import DefaultTrainer\n",
    "from detectron2.config import get_cfg\n",
    "import os\n",
    "\n",
    "cfg = get_cfg()\n",
    "cfg.merge_from_file(model_zoo.get_config_file(\"COCO-InstanceSegmentation/mask_rcnn_R_50_FPN_1x.yaml\"))\n",
    "cfg.DATASETS.TRAIN = (\"checknet_train\",)\n",
    "cfg.DATASETS.TEST = () \n",
    "cfg.DATALOADER.NUM_WORKERS = 4\n",
    "cfg.MODEL.WEIGHTS = model_zoo.get_checkpoint_url(\"COCO-InstanceSegmentation/mask_rcnn_R_50_FPN_1x.yaml\")  # initialize from model zoo\n",
    "cfg.SOLVER.IMS_PER_BATCH = 2\n",
    "cfg.SOLVER.BASE_LR = 0.001\n",
    "cfg.SOLVER.GAMMA = 0.02\n",
    "cfg.SOLVER.MAX_ITER = 3000    # 300 iterations seems good enough, but you can certainly train longer\n",
    "cfg.MODEL.ROI_HEADS.BATCH_SIZE_PER_IMAGE = 64   # faster, and good enough for this toy dataset\n",
    "cfg.MODEL.ROI_HEADS.NUM_CLASSES = 2  # only has one class (ballon)\n",
    "\n",
    "os.makedirs(cfg.OUTPUT_DIR, exist_ok=True)\n",
    "trainer = DefaultTrainer(cfg) \n",
    "trainer.resume_or_load(resume=False)\n",
    "trainer.train()"
   ]
  },
  {
   "cell_type": "markdown",
   "metadata": {},
   "source": [
    "### Tensorboard"
   ]
  },
  {
   "cell_type": "code",
   "execution_count": null,
   "metadata": {},
   "outputs": [],
   "source": [
    "%matplotlib inline \n",
    "%reload_ext tensorboard\n",
    "%tensorboard --logdir output"
   ]
  },
  {
   "cell_type": "markdown",
   "metadata": {},
   "source": [
    "## Inference "
   ]
  },
  {
   "cell_type": "code",
   "execution_count": null,
   "metadata": {},
   "outputs": [],
   "source": [
    "from detectron2.utils.visualizer import ColorMode\n",
    "\n",
    "# load weights\n",
    "cfg.MODEL.WEIGHTS = os.path.join(cfg.OUTPUT_DIR, \"model_final.pth\")\n",
    "cfg.MODEL.ROI_HEADS.SCORE_THRESH_TEST = 0.70   # set the testing threshold for this model\n",
    "# Set training data-set path\n",
    "cfg.DATASETS.TEST = (\"checknet_val\", )\n",
    "# Create predictor (model for inference)\n",
    "predictor = DefaultPredictor(cfg)\n",
    "\n",
    "plt.figure()\n",
    "\n",
    "r = 1\n",
    "c = 1\n",
    "#subplot(r,c) provide the no. of rows and columns\n",
    "f, axarr = plt.subplots(r,c,figsize=(20,12))\n",
    "plt.xticks([])\n",
    "plt.xticks([])\n",
    "i=0\n",
    "j=0\n",
    "\n",
    "dataset_dicts = create_dataset(data[\"val\"])\n",
    "for d in random.sample(dataset_dicts, r*c):\n",
    "    if i == r:\n",
    "        i = 0\n",
    "        j+=1\n",
    "        \n",
    "    im = cv2.imread(d[\"file_name\"])\n",
    "    outputs = predictor(im)\n",
    "    v = Visualizer(im[:, :, ::-1],\n",
    "                   metadata=fish_metadata, \n",
    "                   scale=0.8, \n",
    "                   instance_mode=ColorMode.IMAGE_BW   # remove the colors of unsegmented pixels\n",
    "    )\n",
    "    v = v.draw_instance_predictions(outputs[\"instances\"].to(\"cpu\"))\n",
    "    axarr.imshow(Image.fromarray(v.get_image()[:, :, ::-1]))\n",
    "    i+=1\n",
    "plt.show()"
   ]
  },
  {
   "cell_type": "code",
   "execution_count": null,
   "metadata": {},
   "outputs": [],
   "source": [
    "print(outputs[\"instances\"].to(\"cpu\").pred_classes)\n",
    "imsa = Image.fromarray(v.get_image()[:, :, ::-1])\n",
    "imsa.save('test.jpg')"
   ]
  },
  {
   "cell_type": "markdown",
   "metadata": {},
   "source": [
    "## Intersection over  union Evaluation"
   ]
  },
  {
   "cell_type": "code",
   "execution_count": null,
   "metadata": {},
   "outputs": [],
   "source": [
    "from iou import intersection_over_Union\n",
    "from tqdm import tqdm\n",
    "\n",
    "\n",
    "iou = intersection_over_Union()\n",
    "image_path = os.getcwd().replace(\"scr\",'images') + '/'\n",
    "\n",
    "def get_box(randnum, cat):\n",
    "    count = len(annotations[randnum][\"annotations\"])\n",
    "    found = 0\n",
    "    for k in range(count):\n",
    "        #category = annotations[randnum][\"annotations\"][k][\"region_attributes\"][\"region\"]\n",
    "        category=list(annotations[randnum][\"annotations\"][k]['region_attributes']['filled'].keys())[0]\n",
    "        if category.strip()==cat.strip():\n",
    "            found = k\n",
    "            break\n",
    "    \n",
    "    anno = annotations[randnum][\"annotations\"][found][\"shape_attributes\"]\n",
    "    px = anno[\"all_points_x\"]\n",
    "    py = anno[\"all_points_y\"]\n",
    "    poly = [(x+0.5, y+0.5) for x,y in zip(px,py)]\n",
    "    poly = [p for x in poly for p in x]\n",
    "    real = [np.min(px), np.max(px),np.min(py), np.max(py)]\n",
    "    return real"
   ]
  },
  {
   "cell_type": "code",
   "execution_count": null,
   "metadata": {},
   "outputs": [],
   "source": [
    "cats = [\"yes\",\"no\"]\n",
    "errors_all = {k:[] for k in cats}\n",
    "ious_all = {k:[] for k in cats}\n",
    "ious_all[\"object_count\"] = []\n",
    "ious_all[\"predicted_count\"] = []\n",
    "annotations = data['val']\n",
    "\n",
    "for kat in cats:\n",
    "    ious = []\n",
    "    errors = []\n",
    "        \n",
    "    for k in tqdm(range(len(annotations))):\n",
    "        randnum = k\n",
    "        #number = int(annotations[randnum]['file_name'].replace(\".JPG\", \"\"))\n",
    "        num_name = annotations[randnum][\"file_name\"]\n",
    "        num_stuff = max(0,len(annotations[randnum][\"annotations\"]))\n",
    "        if kat == \"yes\":\n",
    "            ious_all[\"object_count\"].append(num_stuff)\n",
    "            ious_all[\"predicted_count\"].append(len(outputs[\"instances\"].to(\"cpu\").pred_classes))\n",
    "\n",
    "        name = image_path+annotations[randnum][\"file_name\"]\n",
    "        img = cv2.imread(name)\n",
    "        top = 0\n",
    "        thresh = 0.3\n",
    "        rotations = 0\n",
    "        rotate =True\n",
    "        \n",
    "        while rotate:\n",
    "            outputs = predictor(img)\n",
    "            real = get_box(randnum, kat)\n",
    "\n",
    "            classes = [k.item() for k in outputs[\"instances\"].to(\"cpu\").pred_classes]\n",
    "            temp = 0\n",
    "            for j in range(len(classes)):\n",
    "                #print(\"fish in position: \",classes.index(0))\n",
    "                pred = [y.item() for y in [k for k in outputs[\"instances\"].to(\"cpu\").pred_boxes[j]][0]]\n",
    "                hold = pred[1]\n",
    "                pred[1] = pred[2]\n",
    "                pred[2] = hold\n",
    "                temp = min(max(max(iou.IoU(real,pred),0),temp), 1)\n",
    "            rotate  = (temp < thresh and rotations<3)\n",
    "            top = max(top,temp)\n",
    "            if rotate:\n",
    "                img = cv2.rotate(img,cv2.cv2.ROTATE_90_COUNTERCLOCKWISE)\n",
    "                rotations+=1\n",
    "                \n",
    "        if top<thresh:\n",
    "            errors.append([randnum,num_name])\n",
    "        ious.append(top)\n",
    "        \n",
    "    errors_all[kat] = errors\n",
    "    ious_all[kat] = ious\n",
    "    print(\"mean iou: \",np.mean(ious))\n",
    "    print(\"num errors: \", len(errors))"
   ]
  },
  {
   "cell_type": "code",
   "execution_count": null,
   "metadata": {},
   "outputs": [],
   "source": [
    "kk = pd.DataFrame(ious_all)\n",
    "kk['accuracy'] = kk['predicted_count']/50\n",
    "print(np.mean(kk['accuracy']))"
   ]
  },
  {
   "cell_type": "markdown",
   "metadata": {},
   "source": [
    "-----\n",
    "\n",
    "### Deploy"
   ]
  },
  {
   "cell_type": "code",
   "execution_count": 1,
   "metadata": {},
   "outputs": [
    {
     "name": "stdout",
     "output_type": "stream",
     "text": [
      "1.5.1 False\n"
     ]
    }
   ],
   "source": [
    "import torch, torchvision\n",
    "print(torch.__version__,torch.cuda.is_available())\n",
    "device = torch.device(\"cuda\")\n",
    "torch.cuda.empty_cache()\n",
    "\n",
    "import warnings\n",
    "warnings.filterwarnings(\"ignore\") \n",
    "\n",
    "import numpy as np\n",
    "import random\n",
    "import pandas as pd\n",
    "import os\n",
    "import sys\n",
    "from matplotlib import pyplot as plt\n",
    "\n",
    "import cv2\n",
    "from PIL import Image\n",
    "from skimage import measure\n",
    "import sklearn\n",
    "\n",
    "import pycocotools as pycoco\n",
    "import detectron2\n",
    "from detectron2.utils.logger import setup_logger\n",
    "setup_logger()\n",
    "from detectron2.modeling import build_model\n",
    "from detectron2.checkpoint import DetectionCheckpointer\n",
    "from detectron2.config import get_cfg\n",
    "from detectron2 import model_zoo\n",
    "from detectron2.engine import DefaultPredictor\n",
    "from detectron2.utils.visualizer import Visualizer\n",
    "from detectron2.utils.visualizer import ColorMode\n",
    "from detectron2.data import MetadataCatalog\n",
    "from detectron2.structures import BoxMode\n",
    "%matplotlib inline\n",
    "np.set_printoptions(threshold=sys.maxsize)\n",
    "\n",
    "class trained_model:\n",
    "    def __init__(self):\n",
    "        self.cfg = get_cfg()\n",
    "        self.cfg.merge_from_file(model_zoo.get_config_file(\"COCO-InstanceSegmentation/mask_rcnn_R_50_FPN_1x.yaml\"))\n",
    "        self.cfg.MODEL.WEIGHTS = os.path.join(self.cfg.OUTPUT_DIR, \"model_final_check.pth\")\n",
    "        self.cfg.MODEL.ROI_HEADS.SCORE_THRESH_TEST = 0.60\n",
    "        self.cfg.MODEL.ROI_HEADS.NUM_CLASSES = 2\n",
    "        self.cfg.MODEL.DEVICE = 'cpu'\n",
    "        self.predictor = DefaultPredictor(self.cfg)\n",
    "        #check_metadata = MetadataCatalog.get(\"checknet_train\").set(thing_classes = [\"no\", 'yes'])\n",
    "        #MetadataCatalog.get(\"fishnet_val\").set(thing_classes = [\"fish\", 'blue', 'yellow'])\n",
    "        #cfg.DATASETS.TEST = (\"fishnet_val\",)\n",
    "\n",
    "    def make_prediction(self,image):\n",
    "        #im = cv2.imread(d[\"file_name\"])\n",
    "        outputs = self.predictor(image)\n",
    "        return image,outputs\n",
    "\n",
    "    \n",
    "    def show_prediction(self,im,outputs):\n",
    "        plt.figure()\n",
    "\n",
    "        r =c= 1\n",
    "        #f, axarr = plt.subplots(r,c,figsize=(20,12))\n",
    "        #plt.xticks([])\n",
    "        #plt.xticks([])\n",
    "        v = Visualizer(im[:, :, ::-1],\n",
    "                        metadata=MetadataCatalog.get(\"checknet_train\"), \n",
    "                        scale=0.8, \n",
    "                        instance_mode=ColorMode.IMAGE_BW\n",
    "                      )\n",
    "        v = v.draw_instance_predictions(outputs[\"instances\"].to(\"cpu\"))\n",
    "        pred_im = Image.fromarray(v.get_image()[:, :, ::-1])\n",
    "        #axarr.imshow(pred_im)\n",
    "        #plt.show()\n",
    "        return pred_im\n",
    "    \n",
    "    def get_json_result(self,outputs):\n",
    "        scores = [k.item() for k in outputs[\"instances\"].to(\"cpu\").scores]\n",
    "        classes = [y.item() for y in outputs[\"instances\"].to(\"cpu\").pred_classes]\n",
    "\n",
    "\n",
    "        vertices = {'v1':[],'v2':[],'v3':[],'v4':[]}\n",
    "        for box in range(len(scores)):\n",
    "            box_vertices = [y.item() for y in [k for k in outputs[\"instances\"].to(\"cpu\").pred_boxes[box]][0]]\n",
    "            i=0\n",
    "            for v in vertices:\n",
    "                vertices[v].append(box_vertices[i])\n",
    "                i+=1\n",
    "\n",
    "        v_frame = pd.DataFrame(vertices) \n",
    "        v_frame['scores'] =scores\n",
    "        v_frame['classes'] =classes\n",
    "        v_frame = v_frame.sort_values(by = ['v2','v4','v1','v3'],ascending=True).reset_index(drop=True)\n",
    "        v_frame2 =v_frame[['classes','scores']].to_dict(orient='dict')\n",
    "        return v_frame2"
   ]
  },
  {
   "cell_type": "code",
   "execution_count": 6,
   "metadata": {},
   "outputs": [
    {
     "data": {
      "text/plain": [
       "<matplotlib.image.AxesImage at 0x7f2d34fa7dd0>"
      ]
     },
     "execution_count": 6,
     "metadata": {},
     "output_type": "execute_result"
    },
    {
     "data": {
      "image/png": "[encoded data removed]",
      "text/plain": [
       "<Figure size 432x288 with 1 Axes>"
      ]
     },
     "metadata": {
      "needs_background": "light"
     },
     "output_type": "display_data"
    }
   ],
   "source": [
    "image_path = str(os.getcwd()).strip().replace(\"scr\",'images') + '/'\n",
    "img = cv2.imread(image_path+'LC 1_3.jpg')\n",
    "\n",
    "model = trained_model()\n",
    "im,outputs = model.make_prediction(img)\n",
    "model.show_prediction(im,outputs)"
   ]
  },
  {
   "cell_type": "code",
   "execution_count": null,
   "metadata": {},
   "outputs": [],
   "source": [
    "\n",
    "#model.get_json_result(outputs)"
   ]
  }
 ],
 "metadata": {
  "kernelspec": {
   "display_name": "Python 3",
   "language": "python",
   "name": "python3"
  },
  "language_info": {
   "codemirror_mode": {
    "name": "ipython",
    "version": 3
   },
   "file_extension": ".py",
   "mimetype": "text/x-python",
   "name": "python",
   "nbconvert_exporter": "python",
   "pygments_lexer": "ipython3",
   "version": "3.7.7"
  }
 },
 "nbformat": 4,
 "nbformat_minor": 4
}
